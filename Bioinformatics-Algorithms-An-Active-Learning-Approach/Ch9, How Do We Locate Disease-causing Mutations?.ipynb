{
 "cells": [
  {
   "cell_type": "code",
   "execution_count": 2,
   "id": "a4ffdf2d",
   "metadata": {},
   "outputs": [],
   "source": [
    "class node:\n",
    "    nextNodes = None\n",
    "    idx = None\n",
    "\n",
    "    def __init__(self, idx):\n",
    "        self.nextNodes = {}\n",
    "        self.idx = idx"
   ]
  },
  {
   "cell_type": "code",
   "execution_count": 4,
   "id": "c8cef983",
   "metadata": {},
   "outputs": [],
   "source": [
    "class SuffixTrie(object):\n",
    "\n",
    "    def __init__(self, t):\n",
    "        t += '$' \n",
    "        self.root = {}\n",
    "        self.idx = {}\n",
    "        for i in range(len(t)):\n",
    "            cur = self.root\n",
    "            self.idx[t[i:]] = i\n",
    "            for c in t[i:]: \n",
    "                if c not in cur:\n",
    "                    cur[c] = {}  \n",
    "                cur = cur[c]\n",
    "\n",
    "                \n",
    "    def followPath(self, s):\n",
    "        cur = self.root\n",
    "        for c in s:\n",
    "            if c not in cur:\n",
    "                return None\n",
    "            cur = cur[c]\n",
    "        return cur\n",
    "\n",
    "    \n",
    "    def hasSubstring(self, s):\n",
    "        return self.followPath(s) is not None\n",
    "\n",
    "    \n",
    "    def hasSuffix(self, s):\n",
    "        node = self.followPath(s)\n",
    "        return node is not None and '$' in node"
   ]
  },
  {
   "cell_type": "code",
   "execution_count": 5,
   "id": "4595e9e1",
   "metadata": {},
   "outputs": [
    {
     "name": "stdout",
     "output_type": "stream",
     "text": [
      "{'GATATAGAGATCG$': 0, 'ATATAGAGATCG$': 1, 'TATAGAGATCG$': 2, 'ATAGAGATCG$': 3, 'TAGAGATCG$': 4, 'AGAGATCG$': 5, 'GAGATCG$': 6, 'AGATCG$': 7, 'GATCG$': 8, 'ATCG$': 9, 'TCG$': 10, 'CG$': 11, 'G$': 12, '$': 13}\n"
     ]
    }
   ],
   "source": [
    "text = \"GATATAGAGATCG\"\n",
    "patterns = [\"ATAGA\", \"ATCG\", \"GAT\"]\n",
    "\n",
    "test = SuffixTrie(text)\n",
    "print(test.idx)"
   ]
  },
  {
   "cell_type": "code",
   "execution_count": 6,
   "id": "bc7bbb6a",
   "metadata": {},
   "outputs": [
    {
     "name": "stdout",
     "output_type": "stream",
     "text": [
      "pattern ATAGA not found\n",
      "pattern ATCG found\n",
      "pattern GAT not found\n"
     ]
    }
   ],
   "source": [
    "for i in patterns:\n",
    "    if test.hasSuffix(i):\n",
    "        print(f\"pattern {i} found\")\n",
    "    else:\n",
    "        print(f\"pattern {i} not found\")"
   ]
  },
  {
   "cell_type": "code",
   "execution_count": 7,
   "id": "af6d13b6",
   "metadata": {},
   "outputs": [
    {
     "name": "stdout",
     "output_type": "stream",
     "text": [
      "pattern ATAGA found\n",
      "pattern ATCG found\n",
      "pattern GAT found\n"
     ]
    }
   ],
   "source": [
    "for i in patterns:\n",
    "    if test.hasSubstring(i):\n",
    "        print(f\"pattern {i} found\")\n",
    "    else:\n",
    "        print(f\"pattern {i} not found\")"
   ]
  }
 ],
 "metadata": {
  "kernelspec": {
   "display_name": "Python 3 (ipykernel)",
   "language": "python",
   "name": "python3"
  },
  "language_info": {
   "codemirror_mode": {
    "name": "ipython",
    "version": 3
   },
   "file_extension": ".py",
   "mimetype": "text/x-python",
   "name": "python",
   "nbconvert_exporter": "python",
   "pygments_lexer": "ipython3",
   "version": "3.8.10"
  }
 },
 "nbformat": 4,
 "nbformat_minor": 5
}

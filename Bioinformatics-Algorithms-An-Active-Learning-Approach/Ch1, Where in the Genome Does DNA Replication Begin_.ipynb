{
 "cells": [
  {
   "cell_type": "markdown",
   "id": "c2c61d84",
   "metadata": {},
   "source": [
    "<h3>(1A) Compute the Number of Times a Pattern Appears in a Text <h3>"
   ]
  },
  {
   "cell_type": "code",
   "execution_count": 2,
   "id": "52a3f8f1",
   "metadata": {},
   "outputs": [],
   "source": [
    "def Pattern_Count(text, pattern):\n",
    "    count = 0\n",
    "    for i in range(0, len(text) - len(pattern)):\n",
    "        if text[i: (i + len(pattern))] == pattern:\n",
    "            count += 1\n",
    "\n",
    "    return count"
   ]
  },
  {
   "cell_type": "markdown",
   "id": "a8e8d4f4",
   "metadata": {},
   "source": [
    "<h3>(1B) Find the Most Frequent Words in a String <h3>"
   ]
  },
  {
   "cell_type": "code",
   "execution_count": 3,
   "id": "257f6978",
   "metadata": {},
   "outputs": [],
   "source": [
    "def Frequent_Words(text, K_mer):\n",
    "    Frequent_Patterns = []\n",
    "    counts = []\n",
    "    for i in range(0, len(text) - K_mer + 1):\n",
    "        pattern = text[i: (i + K_mer)]\n",
    "        counts.append(Pattern_Count(text, pattern))\n",
    "\n",
    "    max_Count = max(counts)\n",
    "    for i in range(0, len(text) - K_mer):\n",
    "        if counts[i] == max_Count:\n",
    "            Frequent_Patterns.append(text[i: (i + K_mer)])\n",
    "\n",
    "    # set to remove duplicates\n",
    "    return set(Frequent_Patterns)"
   ]
  },
  {
   "cell_type": "markdown",
   "id": "7819f941",
   "metadata": {},
   "source": [
    "<h3>(1C) Find the Reverse Complement of a DNA String<h3>"
   ]
  },
  {
   "cell_type": "code",
   "execution_count": null,
   "id": "f752ceb3",
   "metadata": {},
   "outputs": [],
   "source": [
    "def rev_compl(DNA_string_pattern):\n",
    "    nucleotides = {'A': 'T', 'C': 'G', 'G': 'C', 'T': 'A'}\n",
    "    return \"\".join(nucleotides[n] for n in reversed(DNA_string_pattern))"
   ]
  },
  {
   "cell_type": "markdown",
   "id": "9da00146",
   "metadata": {},
   "source": [
    "<h3>(1D) Find All Occurrences of a Pattern in a String<h3>"
   ]
  },
  {
   "cell_type": "code",
   "execution_count": null,
   "id": "fa242872",
   "metadata": {},
   "outputs": [],
   "source": [
    "def Pattern_Matching(string, pattern):\n",
    "    flag = False\n",
    "    for i in range(len(string)):\n",
    "        if (string[i:i + len(pattern)] == pattern):\n",
    "            print(i, end=\" \")\n",
    "            flag = True\n",
    "\n",
    "    # there's no exist for pattern on string\n",
    "    if (flag == False):\n",
    "        print(\"NONE\")"
   ]
  },
  {
   "cell_type": "markdown",
   "id": "33d8d513",
   "metadata": {},
   "source": [
    "<h3>(1E) Find Patterns Forming Clumps in a String <h3>"
   ]
  },
  {
   "cell_type": "code",
   "execution_count": null,
   "id": "e4951d04",
   "metadata": {},
   "outputs": [],
   "source": [
    "def Clump_Finding(s, k, L, t):\n",
    "    out = []\n",
    "\n",
    "    for start in range(len(s) - L + 1):\n",
    "        window = s[start:start + L]\n",
    "        counts = {}\n",
    "\n",
    "        for i in range(len(window) - k + 1):\n",
    "            if window[i:i + k] not in counts:\n",
    "                counts[window[i:i + k]] = 1\n",
    "            else:\n",
    "                counts[window[i:i + k]] += 1\n",
    "\n",
    "        for kmer in counts:\n",
    "            if counts[kmer] >= t and kmer not in out:\n",
    "                out.append(kmer)\n",
    "    return out"
   ]
  },
  {
   "cell_type": "markdown",
   "id": "5f1a1f9f",
   "metadata": {},
   "source": [
    "<h3>(1F) Find a Position in a Genome Minimizing the Skew <h3>"
   ]
  },
  {
   "cell_type": "code",
   "execution_count": null,
   "id": "37d0ff1e",
   "metadata": {},
   "outputs": [],
   "source": [
    "import matplotlib.pyplot as plt\n",
    "\n",
    "\n",
    "def Minimum_Skew(genome):\n",
    "    SKEW_list = [0]\n",
    "    SKEW = 0\n",
    "    for i in genome:\n",
    "        if i == 'C':\n",
    "            SKEW -= 1\n",
    "        if i == \"G\":\n",
    "            SKEW += 1\n",
    "        SKEW_list.append(SKEW)\n",
    "\n",
    "    # The skew diagram for Genome\n",
    "    y = SKEW_list\n",
    "    x_labels = [i for i in genome]\n",
    "    x_labels.insert(0, 0)\n",
    "\n",
    "    plt.plot(range(len(x_labels)), y)\n",
    "    plt.xticks(range(len(x_labels)), x_labels)\n",
    "    plt.show()\n",
    "\n",
    "    # enumerate assign index to value it'll be like [(0, 0), (1, -1), (2, -2).....]\n",
    "    # then it return only index to the min value\n",
    "    return [str(i) for i, j in enumerate(SKEW_list) if j == min(SKEW_list)]"
   ]
  },
  {
   "cell_type": "markdown",
   "id": "10b890c7",
   "metadata": {},
   "source": [
    "<h3>(1G) Compute the Hamming Distance Between Two Strings . <h3>"
   ]
  },
  {
   "cell_type": "code",
   "execution_count": null,
   "id": "6a80f011",
   "metadata": {},
   "outputs": [],
   "source": [
    "def Hamming_Distance(s1, s2):\n",
    "    count = 0\n",
    "    for i in range(len(s1)):\n",
    "        if s1[i] != s2[i]:\n",
    "            count += 1\n",
    "\n",
    "    return count"
   ]
  },
  {
   "cell_type": "markdown",
   "id": "3f97e0d1",
   "metadata": {},
   "source": [
    "<h3>(1H) Find All Approximate Occurrences of a Pattern in a String <h3>"
   ]
  },
  {
   "cell_type": "code",
   "execution_count": null,
   "id": "d44fbf9b",
   "metadata": {},
   "outputs": [],
   "source": [
    "def Approximate_Pattern_Matching(text, pattern, d):\n",
    "    positions = []\n",
    "    for i in range(0, len(text) - len(pattern)):\n",
    "        substring = text[i: (i + len(pattern))]\n",
    "        if Hamming_Distance(substring, pattern) <= d:\n",
    "            positions.append(i)\n",
    "\n",
    "    return positions"
   ]
  }
 ],
 "metadata": {
  "kernelspec": {
   "display_name": "Python 3 (ipykernel)",
   "language": "python",
   "name": "python3"
  },
  "language_info": {
   "codemirror_mode": {
    "name": "ipython",
    "version": 3
   },
   "file_extension": ".py",
   "mimetype": "text/x-python",
   "name": "python",
   "nbconvert_exporter": "python",
   "pygments_lexer": "ipython3",
   "version": "3.8.10"
  }
 },
 "nbformat": 4,
 "nbformat_minor": 5
}
